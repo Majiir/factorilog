{
 "cells": [
  {
   "cell_type": "code",
   "execution_count": 1,
   "metadata": {
    "collapsed": true
   },
   "outputs": [],
   "source": [
    "%load_ext autoreload\n",
    "\n",
    "%autoreload 2\n",
    "import imp\n",
    "import factorilog\n"
   ]
  },
  {
   "cell_type": "code",
   "execution_count": 2,
   "metadata": {
    "collapsed": false
   },
   "outputs": [
    {
     "name": "stdout",
     "output_type": "stream",
     "text": [
      "Automatic pdb calling has been turned ON\n"
     ]
    }
   ],
   "source": [
    "%pdb "
   ]
  },
  {
   "cell_type": "code",
   "execution_count": 40,
   "metadata": {
    "collapsed": false
   },
   "outputs": [],
   "source": [
    "\n",
    "\n",
    "from factorilog import Wire, WireColor\n",
    "\n",
    "with open(\"blueprints/sample.bp\",\"r\") as file:\n",
    "    sample = file.read()\n",
    "    c = factorilog.Layout.fromBlueprint(sample)\n"
   ]
  },
  {
   "cell_type": "code",
   "execution_count": 41,
   "metadata": {
    "collapsed": false
   },
   "outputs": [
    {
     "name": "stdout",
     "output_type": "stream",
     "text": [
      "c: medium-electric-pole        | 1\n",
      "b <= c: 1 black if green > 2   | 2\n",
      "a <= c: red = green + 0        | 3\n",
      "d <= b, e: @ all if black = 0  | 4\n",
      "d <= a, b: @ red if black = 1  | 5\n",
      "d: medium-electric-pole        | 6\n",
      "e <=: 5 red                    | 7\n",
      "||\n",
      "1 | -5 -2 \n",
      "2 | -2.5 -2 S\n",
      "3 | -2.5 0 S\n",
      "4 | 0.5 0 S\n",
      "5 | 0.5 -1 S\n",
      "6 | 4 -1 \n",
      "7 | -3 1 S\n",
      "a | red 5i-3o\n",
      "b | green 2o-5i 5i-4i\n",
      "c | red 3i-1 1-2i\n",
      "d | green 5o-6 6-4o\n",
      "e | red 7-4i\n"
     ]
    }
   ],
   "source": [
    "netlist_meta = c.toNetString(meta=True)\n",
    "print(netlist_meta)"
   ]
  },
  {
   "cell_type": "code",
   "execution_count": 42,
   "metadata": {
    "collapsed": false
   },
   "outputs": [
    {
     "name": "stdout",
     "output_type": "stream",
     "text": [
      "{\n",
      "  \"Entities\": [\n",
      "    {\n",
      "      \"Descriptor\": {\n",
      "        \"name\": \"medium-electric-pole\"\n",
      "      },\n",
      "      \"ID\": 1,\n",
      "      \"nets\": {\n",
      "        \"pass\": [\n",
      "          \"c\"\n",
      "        ],\n",
      "        \"out\": null\n",
      "      }\n",
      "    },\n",
      "    {\n",
      "      \"Descriptor\": {\n",
      "        \"name\": \"decider-combinator\",\n",
      "        \"behavior\": {\n",
      "          \"decider_conditions\": {\n",
      "            \"output_signal\": {\n",
      "              \"type\": \"virtual\",\n",
      "              \"name\": \"signal-black\"\n",
      "            },\n",
      "            \"copy_count_from_input\": false,\n",
      "            \"comparator\": \">\",\n",
      "            \"first_signal\": {\n",
      "              \"type\": \"virtual\",\n",
      "              \"name\": \"signal-green\"\n",
      "            },\n",
      "            \"constant\": 2\n",
      "          }\n",
      "        }\n",
      "      },\n",
      "      \"ID\": 2,\n",
      "      \"nets\": {\n",
      "        \"out\": [\n",
      "          \"b\"\n",
      "        ],\n",
      "        \"in\": [\n",
      "          \"c\"\n",
      "        ]\n",
      "      }\n",
      "    },\n",
      "    {\n",
      "      \"Descriptor\": {\n",
      "        \"name\": \"arithmetic-combinator\",\n",
      "        \"behavior\": {\n",
      "          \"arithmetic_conditions\": {\n",
      "            \"output_signal\": {\n",
      "              \"type\": \"virtual\",\n",
      "              \"name\": \"signal-red\"\n",
      "            },\n",
      "            \"constant\": 0,\n",
      "            \"first_signal\": {\n",
      "              \"type\": \"virtual\",\n",
      "              \"name\": \"signal-green\"\n",
      "            },\n",
      "            \"operation\": \"+\"\n",
      "          }\n",
      "        }\n",
      "      },\n",
      "      \"ID\": 3,\n",
      "      \"nets\": {\n",
      "        \"out\": [\n",
      "          \"a\"\n",
      "        ],\n",
      "        \"in\": [\n",
      "          \"c\"\n",
      "        ]\n",
      "      }\n",
      "    },\n",
      "    {\n",
      "      \"Descriptor\": {\n",
      "        \"name\": \"decider-combinator\",\n",
      "        \"behavior\": {\n",
      "          \"decider_conditions\": {\n",
      "            \"output_signal\": {\n",
      "              \"type\": \"virtual\",\n",
      "              \"name\": \"signal-everything\"\n",
      "            },\n",
      "            \"copy_count_from_input\": true,\n",
      "            \"comparator\": \"=\",\n",
      "            \"first_signal\": {\n",
      "              \"type\": \"virtual\",\n",
      "              \"name\": \"signal-black\"\n",
      "            },\n",
      "            \"constant\": 0\n",
      "          }\n",
      "        }\n",
      "      },\n",
      "      \"ID\": 4,\n",
      "      \"nets\": {\n",
      "        \"out\": [\n",
      "          \"d\"\n",
      "        ],\n",
      "        \"in\": [\n",
      "          \"b\",\n",
      "          \"e\"\n",
      "        ]\n",
      "      }\n",
      "    },\n",
      "    {\n",
      "      \"Descriptor\": {\n",
      "        \"name\": \"decider-combinator\",\n",
      "        \"behavior\": {\n",
      "          \"decider_conditions\": {\n",
      "            \"output_signal\": {\n",
      "              \"type\": \"virtual\",\n",
      "              \"name\": \"signal-red\"\n",
      "            },\n",
      "            \"copy_count_from_input\": true,\n",
      "            \"comparator\": \"=\",\n",
      "            \"first_signal\": {\n",
      "              \"type\": \"virtual\",\n",
      "              \"name\": \"signal-black\"\n",
      "            },\n",
      "            \"constant\": 1\n",
      "          }\n",
      "        }\n",
      "      },\n",
      "      \"ID\": 5,\n",
      "      \"nets\": {\n",
      "        \"out\": [\n",
      "          \"d\"\n",
      "        ],\n",
      "        \"in\": [\n",
      "          \"a\",\n",
      "          \"b\"\n",
      "        ]\n",
      "      }\n",
      "    },\n",
      "    {\n",
      "      \"Descriptor\": {\n",
      "        \"name\": \"medium-electric-pole\"\n",
      "      },\n",
      "      \"ID\": 6,\n",
      "      \"nets\": {\n",
      "        \"pass\": [\n",
      "          \"d\"\n",
      "        ],\n",
      "        \"out\": null\n",
      "      }\n",
      "    },\n",
      "    {\n",
      "      \"Descriptor\": {\n",
      "        \"name\": \"constant-combinator\",\n",
      "        \"behavior\": {\n",
      "          \"filters\": [\n",
      "            {\n",
      "              \"count\": 5,\n",
      "              \"signal\": {\n",
      "                \"type\": \"virtual\",\n",
      "                \"name\": \"signal-red\"\n",
      "              },\n",
      "              \"index\": 1\n",
      "            }\n",
      "          ]\n",
      "        }\n",
      "      },\n",
      "      \"ID\": 7,\n",
      "      \"nets\": {\n",
      "        \"out\": [\n",
      "          \"e\"\n",
      "        ],\n",
      "        \"in\": null\n",
      "      }\n",
      "    }\n",
      "  ],\n",
      "  \"Metadata\": [\n",
      "    {\n",
      "      \"ID\": 1,\n",
      "      \"X\": -5,\n",
      "      \"Y\": -2,\n",
      "      \"Direction\": null\n",
      "    },\n",
      "    {\n",
      "      \"ID\": 2,\n",
      "      \"X\": -2.5,\n",
      "      \"Y\": -2,\n",
      "      \"Direction\": \"S\"\n",
      "    },\n",
      "    {\n",
      "      \"ID\": 3,\n",
      "      \"X\": -2.5,\n",
      "      \"Y\": 0,\n",
      "      \"Direction\": \"S\"\n",
      "    },\n",
      "    {\n",
      "      \"ID\": 4,\n",
      "      \"X\": 0.5,\n",
      "      \"Y\": 0,\n",
      "      \"Direction\": \"S\"\n",
      "    },\n",
      "    {\n",
      "      \"ID\": 5,\n",
      "      \"X\": 0.5,\n",
      "      \"Y\": -1,\n",
      "      \"Direction\": \"S\"\n",
      "    },\n",
      "    {\n",
      "      \"ID\": 6,\n",
      "      \"X\": 4,\n",
      "      \"Y\": -1,\n",
      "      \"Direction\": null\n",
      "    },\n",
      "    {\n",
      "      \"ID\": 7,\n",
      "      \"X\": -3,\n",
      "      \"Y\": 1,\n",
      "      \"Direction\": \"S\"\n",
      "    },\n",
      "    {\n",
      "      \"Name\": \"a\",\n",
      "      \"Color\": \"red\",\n",
      "      \"Wires\": [\n",
      "        {\n",
      "          \"Terminals\": [\n",
      "            {\n",
      "              \"ID\": 5,\n",
      "              \"Type\": \"i\"\n",
      "            },\n",
      "            {\n",
      "              \"ID\": 3,\n",
      "              \"Type\": \"o\"\n",
      "            }\n",
      "          ]\n",
      "        }\n",
      "      ]\n",
      "    },\n",
      "    {\n",
      "      \"Name\": \"b\",\n",
      "      \"Color\": \"green\",\n",
      "      \"Wires\": [\n",
      "        {\n",
      "          \"Terminals\": [\n",
      "            {\n",
      "              \"ID\": 2,\n",
      "              \"Type\": \"o\"\n",
      "            },\n",
      "            {\n",
      "              \"ID\": 5,\n",
      "              \"Type\": \"i\"\n",
      "            }\n",
      "          ]\n",
      "        },\n",
      "        {\n",
      "          \"Terminals\": [\n",
      "            {\n",
      "              \"ID\": 5,\n",
      "              \"Type\": \"i\"\n",
      "            },\n",
      "            {\n",
      "              \"ID\": 4,\n",
      "              \"Type\": \"i\"\n",
      "            }\n",
      "          ]\n",
      "        }\n",
      "      ]\n",
      "    },\n",
      "    {\n",
      "      \"Name\": \"c\",\n",
      "      \"Color\": \"red\",\n",
      "      \"Wires\": [\n",
      "        {\n",
      "          \"Terminals\": [\n",
      "            {\n",
      "              \"ID\": 3,\n",
      "              \"Type\": \"i\"\n",
      "            },\n",
      "            {\n",
      "              \"ID\": 1,\n",
      "              \"Type\": null\n",
      "            }\n",
      "          ]\n",
      "        },\n",
      "        {\n",
      "          \"Terminals\": [\n",
      "            {\n",
      "              \"ID\": 1,\n",
      "              \"Type\": null\n",
      "            },\n",
      "            {\n",
      "              \"ID\": 2,\n",
      "              \"Type\": \"i\"\n",
      "            }\n",
      "          ]\n",
      "        }\n",
      "      ]\n",
      "    },\n",
      "    {\n",
      "      \"Name\": \"d\",\n",
      "      \"Color\": \"green\",\n",
      "      \"Wires\": [\n",
      "        {\n",
      "          \"Terminals\": [\n",
      "            {\n",
      "              \"ID\": 5,\n",
      "              \"Type\": \"o\"\n",
      "            },\n",
      "            {\n",
      "              \"ID\": 6,\n",
      "              \"Type\": null\n",
      "            }\n",
      "          ]\n",
      "        },\n",
      "        {\n",
      "          \"Terminals\": [\n",
      "            {\n",
      "              \"ID\": 6,\n",
      "              \"Type\": null\n",
      "            },\n",
      "            {\n",
      "              \"ID\": 4,\n",
      "              \"Type\": \"o\"\n",
      "            }\n",
      "          ]\n",
      "        }\n",
      "      ]\n",
      "    },\n",
      "    {\n",
      "      \"Name\": \"e\",\n",
      "      \"Color\": \"red\",\n",
      "      \"Wires\": [\n",
      "        {\n",
      "          \"Terminals\": [\n",
      "            {\n",
      "              \"ID\": 7,\n",
      "              \"Type\": null\n",
      "            },\n",
      "            {\n",
      "              \"ID\": 4,\n",
      "              \"Type\": \"i\"\n",
      "            }\n",
      "          ]\n",
      "        }\n",
      "      ]\n",
      "    }\n",
      "  ]\n",
      "}\n"
     ]
    }
   ],
   "source": [
    "layout = factorilog.Layout.fromNetlist(netlist_meta)"
   ]
  },
  {
   "cell_type": "code",
   "execution_count": 43,
   "metadata": {
    "collapsed": false
   },
   "outputs": [
    {
     "name": "stdout",
     "output_type": "stream",
     "text": [
      "d\n",
      "a\n",
      "b\n",
      "c\n",
      "e\n"
     ]
    }
   ],
   "source": [
    "for hyp in layout.hyperwires:\n",
    "    print(hyp.name)\n",
    "        "
   ]
  },
  {
   "cell_type": "code",
   "execution_count": 44,
   "metadata": {
    "collapsed": false
   },
   "outputs": [
    {
     "name": "stdout",
     "output_type": "stream",
     "text": [
      "c: medium-electric-pole        | 1\n",
      "b <= c: 1 black if green > 2   | 2\n",
      "a <= c: red = green + 0        | 3\n",
      "d <= e, b: @ all if black = 0  | 4\n",
      "d <= a, b: @ red if black = 1  | 5\n",
      "d: medium-electric-pole        | 6\n",
      "e <=: 5 red                    | 7\n",
      "||\n",
      "1 | -5 -2 \n",
      "2 | -2.5 -2 S\n",
      "3 | -2.5 0 S\n",
      "4 | 0.5 0 S\n",
      "5 | 0.5 -1 S\n",
      "6 | 4 -1 \n",
      "7 | -3 1 S\n",
      "d | green 6-4o 5o-6\n",
      "a | red 5i-3o\n",
      "b | green 4i-5i 2o-5i\n",
      "c | red 2i-1 3i-1\n",
      "e | red 7-4i\n"
     ]
    }
   ],
   "source": [
    "print(layout.toNetString(meta=True))"
   ]
  },
  {
   "cell_type": "code",
   "execution_count": 35,
   "metadata": {
    "collapsed": false
   },
   "outputs": [
    {
     "name": "stdout",
     "output_type": "stream",
     "text": [
      "decider-combinator 2\n",
      "\t 3\n",
      "\t 1\n",
      "medium-electric-pole 1\n",
      "\t 2\n",
      "decider-combinator 2\n",
      "\t 1\n",
      "\t 1\n",
      "constant-combinator 1\n",
      "\t 1\n",
      "medium-electric-pole 1\n",
      "\t 2\n",
      "arithmetic-combinator 2\n",
      "\t 1\n",
      "\t 1\n",
      "decider-combinator 2\n",
      "\t 2\n",
      "\t 1\n"
     ]
    }
   ],
   "source": [
    "#wires per term\n",
    "l_ents = list(c.ents)\n",
    "for ent in l_ents:\n",
    "    print(ent.name,len(ent.terminals))\n",
    "    for term in ent.terminals:\n",
    "        print(\"\\t\",len(term.wires))\n",
    "        "
   ]
  },
  {
   "cell_type": "code",
   "execution_count": 20,
   "metadata": {
    "collapsed": false
   },
   "outputs": [
    {
     "name": "stdout",
     "output_type": "stream",
     "text": [
      "{<factorilog.Terminal object at 0x7f2a64029710>, <factorilog.Terminal object at 0x7f2a64029550>}\n",
      "constant-combinator\n"
     ]
    }
   ],
   "source": [
    "ar = l_ents[1]\n",
    "con = c.getConnectedTerminals(ar.terminals[0],WireColor.red)\n",
    "print(con)\n",
    "print(list(con)[0].ent.name)\n"
   ]
  },
  {
   "cell_type": "code",
   "execution_count": 21,
   "metadata": {
    "collapsed": false
   },
   "outputs": [
    {
     "name": "stdout",
     "output_type": "stream",
     "text": [
      "5\n",
      "WireColor.red 3\n",
      "WireColor.green 3\n",
      "WireColor.green 3\n",
      "WireColor.red 2\n",
      "WireColor.red 2\n"
     ]
    }
   ],
   "source": [
    "net = c.getNetlist()\n",
    "print(len(net))\n",
    "for hyp in list(net):\n",
    "    print(hyp.color, len(hyp.terminals))"
   ]
  },
  {
   "cell_type": "code",
   "execution_count": 22,
   "metadata": {
    "collapsed": false
   },
   "outputs": [
    {
     "name": "stdout",
     "output_type": "stream",
     "text": [
      "WireColor.green\n",
      "frozenset({<factorilog.Terminal object at 0x7f2a64029550>, <factorilog.Terminal object at 0x7f2a640295f8>})\n",
      "WireColor.red\n",
      "frozenset({<factorilog.Terminal object at 0x7f2a64029710>, <factorilog.Terminal object at 0x7f2a64029550>})\n"
     ]
    }
   ],
   "source": [
    "w=l_ents[1].terminals[0].wires\n",
    "for w1 in l_ents[1].terminals[0].wires:\n",
    "    print(w1.color)\n",
    "    print(w1.terminals)"
   ]
  },
  {
   "cell_type": "code",
   "execution_count": 23,
   "metadata": {
    "collapsed": false
   },
   "outputs": [
    {
     "name": "stdout",
     "output_type": "stream",
     "text": [
      "8\n"
     ]
    }
   ],
   "source": [
    "#num wires\n",
    "wires = set()\n",
    "for ent in list(c.ents):\n",
    "    for term in ent.terminals:\n",
    "        wires.update(term.wires)\n",
    "print(len(wires))"
   ]
  },
  {
   "cell_type": "code",
   "execution_count": 26,
   "metadata": {
    "collapsed": false,
    "scrolled": true
   },
   "outputs": [
    {
     "name": "stdout",
     "output_type": "stream",
     "text": [
      "[ { 'connections': { '1': { 'red': [ {'circuit_id': 1, 'entity_id': 2},\n",
      "                                     {'circuit_id': 1, 'entity_id': 3}]}},\n",
      "    'entity_number': 1,\n",
      "    'name': 'medium-electric-pole',\n",
      "    'position': {'x': -5, 'y': -2}},\n",
      "  { 'connections': { '1': {'red': [{'entity_id': 1}]},\n",
      "                     '2': {'green': [{'circuit_id': 1, 'entity_id': 5}]}},\n",
      "    'control_behavior': { 'decider_conditions': { 'comparator': '>',\n",
      "                                                  'constant': 2,\n",
      "                                                  'copy_count_from_input': False,\n",
      "                                                  'first_signal': { 'name': 'signal-green',\n",
      "                                                                    'type': 'virtual'},\n",
      "                                                  'output_signal': { 'name': 'signal-black',\n",
      "                                                                     'type': 'virtual'}}},\n",
      "    'direction': 2,\n",
      "    'entity_number': 2,\n",
      "    'name': 'decider-combinator',\n",
      "    'position': {'x': -2.5, 'y': -2}},\n",
      "  { 'connections': { '1': {'red': [{'entity_id': 1}]},\n",
      "                     '2': {'red': [{'circuit_id': 1, 'entity_id': 5}]}},\n",
      "    'control_behavior': { 'arithmetic_conditions': { 'constant': 0,\n",
      "                                                     'first_signal': { 'name': 'signal-green',\n",
      "                                                                       'type': 'virtual'},\n",
      "                                                     'operation': '+',\n",
      "                                                     'output_signal': { 'name': 'signal-red',\n",
      "                                                                        'type': 'virtual'}}},\n",
      "    'direction': 2,\n",
      "    'entity_number': 3,\n",
      "    'name': 'arithmetic-combinator',\n",
      "    'position': {'x': -2.5, 'y': 0}},\n",
      "  { 'connections': { '1': { 'green': [{'circuit_id': 1, 'entity_id': 5}],\n",
      "                            'red': [{'entity_id': 7}]},\n",
      "                     '2': {'green': [{'entity_id': 6}]}},\n",
      "    'control_behavior': { 'decider_conditions': { 'comparator': '=',\n",
      "                                                  'constant': 0,\n",
      "                                                  'copy_count_from_input': True,\n",
      "                                                  'first_signal': { 'name': 'signal-black',\n",
      "                                                                    'type': 'virtual'},\n",
      "                                                  'output_signal': { 'name': 'signal-everything',\n",
      "                                                                     'type': 'virtual'}}},\n",
      "    'direction': 2,\n",
      "    'entity_number': 4,\n",
      "    'name': 'decider-combinator',\n",
      "    'position': {'x': 0.5, 'y': 0}},\n",
      "  { 'connections': { '1': { 'green': [ {'circuit_id': 2, 'entity_id': 2},\n",
      "                                       {'circuit_id': 1, 'entity_id': 4}],\n",
      "                            'red': [{'circuit_id': 2, 'entity_id': 3}]},\n",
      "                     '2': {'green': [{'entity_id': 6}]}},\n",
      "    'control_behavior': { 'decider_conditions': { 'comparator': '=',\n",
      "                                                  'constant': 1,\n",
      "                                                  'copy_count_from_input': True,\n",
      "                                                  'first_signal': { 'name': 'signal-black',\n",
      "                                                                    'type': 'virtual'},\n",
      "                                                  'output_signal': { 'name': 'signal-red',\n",
      "                                                                     'type': 'virtual'}}},\n",
      "    'direction': 2,\n",
      "    'entity_number': 5,\n",
      "    'name': 'decider-combinator',\n",
      "    'position': {'x': 0.5, 'y': -1}},\n",
      "  { 'connections': { '1': { 'green': [ {'circuit_id': 2, 'entity_id': 5},\n",
      "                                       {'circuit_id': 2, 'entity_id': 4}]}},\n",
      "    'entity_number': 6,\n",
      "    'name': 'medium-electric-pole',\n",
      "    'position': {'x': 4, 'y': -1}},\n",
      "  { 'connections': {'1': {'red': [{'circuit_id': 1, 'entity_id': 4}]}},\n",
      "    'control_behavior': { 'filters': [ { 'count': 5,\n",
      "                                         'index': 1,\n",
      "                                         'signal': { 'name': 'signal-red',\n",
      "                                                     'type': 'virtual'}}]},\n",
      "    'direction': 2,\n",
      "    'entity_number': 7,\n",
      "    'name': 'constant-combinator',\n",
      "    'position': {'x': -3, 'y': 1}}]\n"
     ]
    }
   ],
   "source": [
    "\n",
    "import pprint\n",
    "from slpp import slpp as lua\n",
    "pp = pprint.PrettyPrinter(indent=2)\n",
    "pp.pprint(lua.decode(sample))"
   ]
  },
  {
   "cell_type": "code",
   "execution_count": 284,
   "metadata": {
    "collapsed": false
   },
   "outputs": [
    {
     "name": "stdout",
     "output_type": "stream",
     "text": [
      "['84']\n",
      "[\n",
      "  \"84\"\n",
      "]\n"
     ]
    }
   ],
   "source": [
    "import test_parser\n",
    "import json\n",
    "imp.reload(test_parser)\n",
    "\n",
    "text=\\\n",
    "\"\"\"84\"\"\"\n",
    "\n",
    "parser = test_parser.TestParser(parseinfo=False)\n",
    "ast = parser.parse(text, rule_name='start')\n",
    "print(ast)\n",
    "print(json.dumps(ast, indent=2)) # ASTs are JSON-friendy"
   ]
  }
 ],
 "metadata": {
  "kernelspec": {
   "display_name": "Python 3",
   "language": "python",
   "name": "python3"
  },
  "language_info": {
   "codemirror_mode": {
    "name": "ipython",
    "version": 3
   },
   "file_extension": ".py",
   "mimetype": "text/x-python",
   "name": "python",
   "nbconvert_exporter": "python",
   "pygments_lexer": "ipython3",
   "version": "3.5.2"
  }
 },
 "nbformat": 4,
 "nbformat_minor": 0
}
