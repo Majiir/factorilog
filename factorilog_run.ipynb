{
 "cells": [
  {
   "cell_type": "markdown",
   "metadata": {},
   "source": [
    "NetList:\n",
    "    entities[]\n",
    "    edges[]\n",
    "\n",
    "Entity:\n",
    "    Terminal[]\n",
    "    [edges to terminal 0, edges to terminal 1]\n",
    "Edge:\n",
    "    Terminal[]\n",
    "Terminal:\n",
    "    ent\n",
    "    type (in, out, pass)"
   ]
  },
  {
   "cell_type": "code",
   "execution_count": 294,
   "metadata": {
    "collapsed": false
   },
   "outputs": [],
   "source": [
    "\n",
    "import imp\n",
    "import factorilog\n",
    "imp.reload(factorilog)\n",
    "Wire=factorilog.Wire\n",
    "\n",
    "with open(\"blueprints/sample.bp\",\"r\") as file:\n",
    "    sample = file.read()\n",
    "    c = factorilog.Layout.fromBlueprint(sample)\n"
   ]
  },
  {
   "cell_type": "code",
   "execution_count": 298,
   "metadata": {
    "collapsed": false
   },
   "outputs": [
    {
     "name": "stdout",
     "output_type": "stream",
     "text": [
      "d <=: 5 red\n",
      "e <= c: 1 black if green > 2\n",
      "c: medium-electric-pole\n",
      "b <= a, e: @ red if black = 1\n",
      "b <= d, e: @ all if black = 0\n",
      "b: medium-electric-pole\n",
      "a <= c: red = green + 0\n"
     ]
    }
   ],
   "source": [
    "print(c.toNetString())"
   ]
  },
  {
   "cell_type": "code",
   "execution_count": 295,
   "metadata": {
    "collapsed": false
   },
   "outputs": [
    {
     "name": "stdout",
     "output_type": "stream",
     "text": [
      "constant-combinator 1\n",
      "\t 1\n",
      "decider-combinator 2\n",
      "\t 1\n",
      "\t 1\n",
      "medium-electric-pole 1\n",
      "\t 2\n",
      "decider-combinator 2\n",
      "\t 3\n",
      "\t 1\n",
      "decider-combinator 2\n",
      "\t 2\n",
      "\t 1\n",
      "medium-electric-pole 1\n",
      "\t 2\n",
      "arithmetic-combinator 2\n",
      "\t 1\n",
      "\t 1\n"
     ]
    }
   ],
   "source": [
    "#wires per term\n",
    "l_ents = list(c.ents)\n",
    "for ent in l_ents:\n",
    "    print(ent.name,len(ent.terminals))\n",
    "    for term in ent.terminals:\n",
    "        print(\"\\t\",len(term.wires))\n",
    "        "
   ]
  },
  {
   "cell_type": "code",
   "execution_count": 293,
   "metadata": {
    "collapsed": false
   },
   "outputs": [
    {
     "name": "stdout",
     "output_type": "stream",
     "text": [
      "{<factorilog.Terminal object at 0x7f53bc32b0b8>}\n",
      "medium-electric-pole\n"
     ]
    }
   ],
   "source": [
    "ar = l_ents[1]\n",
    "con = c.getConnectedTerminals(ar.terminals[0],WireColor.red)\n",
    "print(con)\n",
    "print(list(con)[0].ent.name)\n"
   ]
  },
  {
   "cell_type": "code",
   "execution_count": 218,
   "metadata": {
    "collapsed": false
   },
   "outputs": [
    {
     "name": "stdout",
     "output_type": "stream",
     "text": [
      "5\n",
      "WireColor.green 3\n",
      "WireColor.red 2\n",
      "WireColor.red 3\n",
      "WireColor.green 3\n",
      "WireColor.red 2\n"
     ]
    }
   ],
   "source": [
    "net = c.getNetlist()\n",
    "print(len(net))\n",
    "for hyp in list(net):\n",
    "    print(hyp.color, len(hyp.terminals))"
   ]
  },
  {
   "cell_type": "code",
   "execution_count": 219,
   "metadata": {
    "collapsed": false
   },
   "outputs": [
    {
     "name": "stdout",
     "output_type": "stream",
     "text": [
      "WireColor.green\n",
      "frozenset({<factorilog.Terminal object at 0x7f53bc3c3198>, <factorilog.Terminal object at 0x7f53bc3c3160>})\n",
      "WireColor.red\n",
      "frozenset({<factorilog.Terminal object at 0x7f53bc2e0518>, <factorilog.Terminal object at 0x7f53bc3c3198>})\n"
     ]
    }
   ],
   "source": [
    "w=l_ents[1].terminals[0].wires\n",
    "for w1 in l_ents[1].terminals[0].wires:\n",
    "    print(w1.color)\n",
    "    print(w1.terminals)"
   ]
  },
  {
   "cell_type": "code",
   "execution_count": 220,
   "metadata": {
    "collapsed": false
   },
   "outputs": [
    {
     "name": "stdout",
     "output_type": "stream",
     "text": [
      "8\n"
     ]
    }
   ],
   "source": [
    "#num wires\n",
    "wires = set()\n",
    "for ent in list(c.ents):\n",
    "    for term in ent.terminals:\n",
    "        wires.update(term.wires)\n",
    "print(len(wires))"
   ]
  },
  {
   "cell_type": "code",
   "execution_count": 299,
   "metadata": {
    "collapsed": false,
    "scrolled": true
   },
   "outputs": [
    {
     "name": "stdout",
     "output_type": "stream",
     "text": [
      "[ { 'connections': { '1': { 'red': [ {'circuit_id': 1, 'entity_id': 2},\n",
      "                                     {'circuit_id': 1, 'entity_id': 3}]}},\n",
      "    'entity_number': 1,\n",
      "    'name': 'medium-electric-pole',\n",
      "    'position': {'x': -5, 'y': -2}},\n",
      "  { 'connections': { '1': {'red': [{'entity_id': 1}]},\n",
      "                     '2': {'green': [{'circuit_id': 1, 'entity_id': 5}]}},\n",
      "    'control_behavior': { 'decider_conditions': { 'comparator': '>',\n",
      "                                                  'constant': 2,\n",
      "                                                  'copy_count_from_input': False,\n",
      "                                                  'first_signal': { 'name': 'signal-green',\n",
      "                                                                    'type': 'virtual'},\n",
      "                                                  'output_signal': { 'name': 'signal-black',\n",
      "                                                                     'type': 'virtual'}}},\n",
      "    'direction': 2,\n",
      "    'entity_number': 2,\n",
      "    'name': 'decider-combinator',\n",
      "    'position': {'x': -2.5, 'y': -2}},\n",
      "  { 'connections': { '1': {'red': [{'entity_id': 1}]},\n",
      "                     '2': {'red': [{'circuit_id': 1, 'entity_id': 5}]}},\n",
      "    'control_behavior': { 'arithmetic_conditions': { 'constant': 0,\n",
      "                                                     'first_signal': { 'name': 'signal-green',\n",
      "                                                                       'type': 'virtual'},\n",
      "                                                     'operation': '+',\n",
      "                                                     'output_signal': { 'name': 'signal-red',\n",
      "                                                                        'type': 'virtual'}}},\n",
      "    'direction': 2,\n",
      "    'entity_number': 3,\n",
      "    'name': 'arithmetic-combinator',\n",
      "    'position': {'x': -2.5, 'y': 0}},\n",
      "  { 'connections': { '1': { 'green': [{'circuit_id': 1, 'entity_id': 5}],\n",
      "                            'red': [{'entity_id': 7}]},\n",
      "                     '2': {'green': [{'entity_id': 6}]}},\n",
      "    'control_behavior': { 'decider_conditions': { 'comparator': '=',\n",
      "                                                  'constant': 0,\n",
      "                                                  'copy_count_from_input': True,\n",
      "                                                  'first_signal': { 'name': 'signal-black',\n",
      "                                                                    'type': 'virtual'},\n",
      "                                                  'output_signal': { 'name': 'signal-everything',\n",
      "                                                                     'type': 'virtual'}}},\n",
      "    'direction': 2,\n",
      "    'entity_number': 4,\n",
      "    'name': 'decider-combinator',\n",
      "    'position': {'x': 0.5, 'y': 0}},\n",
      "  { 'connections': { '1': { 'green': [ {'circuit_id': 2, 'entity_id': 2},\n",
      "                                       {'circuit_id': 1, 'entity_id': 4}],\n",
      "                            'red': [{'circuit_id': 2, 'entity_id': 3}]},\n",
      "                     '2': {'green': [{'entity_id': 6}]}},\n",
      "    'control_behavior': { 'decider_conditions': { 'comparator': '=',\n",
      "                                                  'constant': 1,\n",
      "                                                  'copy_count_from_input': True,\n",
      "                                                  'first_signal': { 'name': 'signal-black',\n",
      "                                                                    'type': 'virtual'},\n",
      "                                                  'output_signal': { 'name': 'signal-red',\n",
      "                                                                     'type': 'virtual'}}},\n",
      "    'direction': 2,\n",
      "    'entity_number': 5,\n",
      "    'name': 'decider-combinator',\n",
      "    'position': {'x': 0.5, 'y': -1}},\n",
      "  { 'connections': { '1': { 'green': [ {'circuit_id': 2, 'entity_id': 5},\n",
      "                                       {'circuit_id': 2, 'entity_id': 4}]}},\n",
      "    'entity_number': 6,\n",
      "    'name': 'medium-electric-pole',\n",
      "    'position': {'x': 4, 'y': -1}},\n",
      "  { 'connections': {'1': {'red': [{'circuit_id': 1, 'entity_id': 4}]}},\n",
      "    'control_behavior': { 'filters': [ { 'count': 5,\n",
      "                                         'index': 1,\n",
      "                                         'signal': { 'name': 'signal-red',\n",
      "                                                     'type': 'virtual'}}]},\n",
      "    'direction': 2,\n",
      "    'entity_number': 7,\n",
      "    'name': 'constant-combinator',\n",
      "    'position': {'x': -3, 'y': 1}}]\n"
     ]
    }
   ],
   "source": [
    "\n",
    "import pprint\n",
    "pp = pprint.PrettyPrinter(indent=2)\n",
    "pp.pprint(lua.decode(sample))"
   ]
  }
 ],
 "metadata": {
  "kernelspec": {
   "display_name": "Python 3",
   "language": "python",
   "name": "python3"
  },
  "language_info": {
   "codemirror_mode": {
    "name": "ipython",
    "version": 3
   },
   "file_extension": ".py",
   "mimetype": "text/x-python",
   "name": "python",
   "nbconvert_exporter": "python",
   "pygments_lexer": "ipython3",
   "version": "3.5.2"
  }
 },
 "nbformat": 4,
 "nbformat_minor": 0
}
